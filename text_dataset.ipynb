{
 "cells": [
  {
   "cell_type": "markdown",
   "metadata": {},
   "source": [
    "# text_dataset\n",
    "\n",
    "2022/1/3\n",
    "\n",
    "AttnGANのtext_datasetを確かめるためのノートブック"
   ]
  },
  {
   "cell_type": "code",
   "execution_count": 1,
   "metadata": {},
   "outputs": [],
   "source": [
    "import sys\n",
    "sys.path.append('/home/nakachi/AttnGAN/code')"
   ]
  },
  {
   "cell_type": "code",
   "execution_count": 2,
   "metadata": {},
   "outputs": [],
   "source": [
    "import torchvision.transforms as transforms\n",
    "from datasets import TextDataset"
   ]
  },
  {
   "cell_type": "code",
   "execution_count": 3,
   "metadata": {},
   "outputs": [
    {
     "name": "stdout",
     "output_type": "stream",
     "text": [
      "Load filenames from: /home/nakachi/data/category_split/tv_en//train_filenames.pickle (3191)\n",
      "Load filenames from: /home/nakachi/data/category_split/tv_en//val_filenames.pickle (1577)\n",
      "Load from:  /home/nakachi/data/category_split/tv_en/captions.pickle\n"
     ]
    }
   ],
   "source": [
    "image_transform = transforms.Compose([transforms.Resize((299, 299))])\n",
    "dataset_val = TextDataset('/home/nakachi/data/category_split/tv_en/', 'val',\n",
    "                              base_size=299,\n",
    "                              transform=image_transform, category='tv')"
   ]
  },
  {
   "cell_type": "code",
   "execution_count": 7,
   "metadata": {},
   "outputs": [
    {
     "data": {
      "text/plain": [
       "[[301.94,\n",
       "  189.78,\n",
       "  369.84,\n",
       "  192.67,\n",
       "  387.18,\n",
       "  189.78,\n",
       "  388.62,\n",
       "  264.91,\n",
       "  362.62,\n",
       "  279.36,\n",
       "  296.16,\n",
       "  272.13]]"
      ]
     },
     "execution_count": 7,
     "metadata": {},
     "output_type": "execute_result"
    }
   ],
   "source": [
    "dataset_val.category_real_polygons['COCO_val2014_000000389771']"
   ]
  },
  {
   "cell_type": "code",
   "execution_count": null,
   "metadata": {},
   "outputs": [],
   "source": []
  }
 ],
 "metadata": {
  "kernelspec": {
   "display_name": "env",
   "language": "python",
   "name": "env"
  },
  "language_info": {
   "codemirror_mode": {
    "name": "ipython",
    "version": 3
   },
   "file_extension": ".py",
   "mimetype": "text/x-python",
   "name": "python",
   "nbconvert_exporter": "python",
   "pygments_lexer": "ipython3",
   "version": "3.6.12"
  }
 },
 "nbformat": 4,
 "nbformat_minor": 4
}
