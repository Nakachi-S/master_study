{
 "cells": [
  {
   "cell_type": "markdown",
   "metadata": {},
   "source": [
    "# make_custom_text_datset"
   ]
  },
  {
   "cell_type": "markdown",
   "metadata": {},
   "source": [
    "2021/12/20\n",
    "\n",
    "指定されたデータセットディレクトリのテキストの内容を任意の単語に変換する"
   ]
  },
  {
   "cell_type": "code",
   "execution_count": 10,
   "metadata": {},
   "outputs": [],
   "source": [
    "import glob\n",
    "\n",
    "DATA_DIR = '/home/nakachi/data/category_split/cat_en_custom/text/'\n",
    "text_path_list = glob.glob(DATA_DIR + '*.txt')"
   ]
  },
  {
   "cell_type": "code",
   "execution_count": 11,
   "metadata": {},
   "outputs": [],
   "source": [
    "# 入れ替える文字列\n",
    "replace_str = 'cat is on the bed.\\ncat is on the bed.\\ncat is on the bed.\\ncat is on the bed.\\ncat is on the bed.'"
   ]
  },
  {
   "cell_type": "code",
   "execution_count": 12,
   "metadata": {},
   "outputs": [],
   "source": [
    "for text_path in text_path_list:\n",
    "    f = open(text_path, 'w')\n",
    "    f.write(replace_str)\n",
    "    f.close()"
   ]
  },
  {
   "cell_type": "code",
   "execution_count": null,
   "metadata": {},
   "outputs": [],
   "source": []
  }
 ],
 "metadata": {
  "kernelspec": {
   "display_name": "env",
   "language": "python",
   "name": "env"
  },
  "language_info": {
   "codemirror_mode": {
    "name": "ipython",
    "version": 3
   },
   "file_extension": ".py",
   "mimetype": "text/x-python",
   "name": "python",
   "nbconvert_exporter": "python",
   "pygments_lexer": "ipython3",
   "version": "3.6.12"
  }
 },
 "nbformat": 4,
 "nbformat_minor": 4
}
