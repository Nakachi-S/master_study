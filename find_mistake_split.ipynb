{
 "cells": [
  {
   "cell_type": "markdown",
   "metadata": {},
   "source": [
    "# find mistake split\n",
    "文章の分割が間違いっているのか、\n",
    "抜けている単語が多数ある。（DAMSMの学習時の出力画像での確認結果より）\n",
    "\n",
    "それの調査を行うノートブック"
   ]
  },
  {
   "cell_type": "code",
   "execution_count": 2,
   "metadata": {},
   "outputs": [],
   "source": [
    "import os"
   ]
  },
  {
   "cell_type": "code",
   "execution_count": 19,
   "metadata": {},
   "outputs": [],
   "source": [
    "text_dir_path = '/home/nakachi/data/stair/text'\n",
    "# text_file_name = 'COCO_train2014_000000199841.txt'\n",
    "# text_file_name = 'COCO_train2014_000000400971.txt'\n",
    "text_file_name = 'COCO_train2014_000000112126.txt'\n",
    "text_path = os.path.join(text_dir_path, text_file_name)"
   ]
  },
  {
   "cell_type": "code",
   "execution_count": 20,
   "metadata": {},
   "outputs": [
    {
     "name": "stdout",
     "output_type": "stream",
     "text": [
      "['パイ が 適当 な 大き さ で 切っ て あっ て 、 トレイ に のっ て いる', '黒い ボード の 上 に 、 パイ の よう な 料理 が 乗っ て いる', '机 の 上 に 変わっ た 形 の 黒い お 皿 が 置い て あり その 上 に 四角い ピザ が 乗っ て いる', 'ピザ で 注文 し た 食べ かけ の 途中 の ピザ', '机 の 上 の 黒い お 皿 に ピザ が 乗っ て いる']\n"
     ]
    }
   ],
   "source": [
    "# まずは普通に表示\n",
    "with open(text_path, \"r\", encoding='utf-8') as f:\n",
    "    captions = f.read().split('\\n')\n",
    "    print(captions)"
   ]
  },
  {
   "cell_type": "code",
   "execution_count": 21,
   "metadata": {},
   "outputs": [],
   "source": [
    "# 実際の処理\n",
    "all_captions = []\n",
    "with open(text_path, \"r\", encoding='utf-8') as f:\n",
    "    captions = f.read().split('\\n')\n",
    "    cnt = 0\n",
    "    for cap in captions:\n",
    "        all_captions.append(cap.split(' '))"
   ]
  },
  {
   "cell_type": "code",
   "execution_count": 22,
   "metadata": {},
   "outputs": [
    {
     "data": {
      "text/plain": [
       "[['パイ',\n",
       "  'が',\n",
       "  '適当',\n",
       "  'な',\n",
       "  '大き',\n",
       "  'さ',\n",
       "  'で',\n",
       "  '切っ',\n",
       "  'て',\n",
       "  'あっ',\n",
       "  'て',\n",
       "  '、',\n",
       "  'トレイ',\n",
       "  'に',\n",
       "  'のっ',\n",
       "  'て',\n",
       "  'いる'],\n",
       " ['黒い',\n",
       "  'ボード',\n",
       "  'の',\n",
       "  '上',\n",
       "  'に',\n",
       "  '、',\n",
       "  'パイ',\n",
       "  'の',\n",
       "  'よう',\n",
       "  'な',\n",
       "  '料理',\n",
       "  'が',\n",
       "  '乗っ',\n",
       "  'て',\n",
       "  'いる'],\n",
       " ['机',\n",
       "  'の',\n",
       "  '上',\n",
       "  'に',\n",
       "  '変わっ',\n",
       "  'た',\n",
       "  '形',\n",
       "  'の',\n",
       "  '黒い',\n",
       "  'お',\n",
       "  '皿',\n",
       "  'が',\n",
       "  '置い',\n",
       "  'て',\n",
       "  'あり',\n",
       "  'その',\n",
       "  '上',\n",
       "  'に',\n",
       "  '四角い',\n",
       "  'ピザ',\n",
       "  'が',\n",
       "  '乗っ',\n",
       "  'て',\n",
       "  'いる'],\n",
       " ['ピザ', 'で', '注文', 'し', 'た', '食べ', 'かけ', 'の', '途中', 'の', 'ピザ'],\n",
       " ['机', 'の', '上', 'の', '黒い', 'お', '皿', 'に', 'ピザ', 'が', '乗っ', 'て', 'いる']]"
      ]
     },
     "execution_count": 22,
     "metadata": {},
     "output_type": "execute_result"
    }
   ],
   "source": [
    "all_captions"
   ]
  },
  {
   "cell_type": "markdown",
   "metadata": {},
   "source": [
    "できてるくね！！！\n",
    "\n",
    "なぜ分割がミスるんや！"
   ]
  },
  {
   "cell_type": "code",
   "execution_count": null,
   "metadata": {},
   "outputs": [],
   "source": []
  }
 ],
 "metadata": {
  "kernelspec": {
   "display_name": "env",
   "language": "python",
   "name": "env"
  },
  "language_info": {
   "codemirror_mode": {
    "name": "ipython",
    "version": 3
   },
   "file_extension": ".py",
   "mimetype": "text/x-python",
   "name": "python",
   "nbconvert_exporter": "python",
   "pygments_lexer": "ipython3",
   "version": "3.6.12"
  }
 },
 "nbformat": 4,
 "nbformat_minor": 4
}
