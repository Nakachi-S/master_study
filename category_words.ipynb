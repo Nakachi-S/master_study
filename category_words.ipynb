{
 "cells": [
  {
   "cell_type": "markdown",
   "metadata": {},
   "source": [
    "# category_words\n",
    "\n",
    "2022/1/6\n",
    "\n",
    "\n",
    "category_words_dic作成のためのノートブック"
   ]
  },
  {
   "cell_type": "markdown",
   "metadata": {},
   "source": [
    "**各カテゴリーの文章をいくつか表示する**"
   ]
  },
  {
   "cell_type": "code",
   "execution_count": 56,
   "metadata": {},
   "outputs": [],
   "source": [
    "import json\n",
    "import os\n",
    "import glob\n",
    "import pickle"
   ]
  },
  {
   "cell_type": "code",
   "execution_count": 11,
   "metadata": {},
   "outputs": [],
   "source": [
    "# 日本語\n",
    "CATEGORY_SPLIT_DIR_PATH = '/home/nakachi/data/category_split'\n",
    "CATEGORY_WORDS_DIC_PATH = os.path.join(CATEGORY_SPLIT_DIR_PATH, 'category_words_ja_dic.json')"
   ]
  },
  {
   "cell_type": "code",
   "execution_count": 8,
   "metadata": {},
   "outputs": [],
   "source": [
    "with open(CATEGORY_WORDS_DIC_PATH) as f:\n",
    "    category_words_dic = json.load(f)"
   ]
  },
  {
   "cell_type": "code",
   "execution_count": 48,
   "metadata": {},
   "outputs": [],
   "source": [
    "# 何ファイル表示するか\n",
    "MAX_DISPLAY_TEXT = 5"
   ]
  },
  {
   "cell_type": "code",
   "execution_count": null,
   "metadata": {},
   "outputs": [],
   "source": [
    "for cat in category_words_dic.keys():\n",
    "    print(f'process {cat}...')\n",
    "    cat_dir_path = os.path.join(CATEGORY_SPLIT_DIR_PATH, cat+'_ja')\n",
    "    text_path_list = glob.glob(cat_dir_path + '/text/*')\n",
    "    \n",
    "    for i in range(MAX_DISPLAY_TEXT):\n",
    "        with open(text_path_list[i+30]) as f:\n",
    "            print(f.read())\n",
    "    \n",
    "    print('----------------------------------\\n')"
   ]
  },
  {
   "cell_type": "code",
   "execution_count": null,
   "metadata": {},
   "outputs": [],
   "source": []
  },
  {
   "cell_type": "markdown",
   "metadata": {},
   "source": [
    "---\n",
    "\n",
    "作成した辞書の単語らが、wordtoixにあるか確認する。"
   ]
  },
  {
   "cell_type": "code",
   "execution_count": 58,
   "metadata": {},
   "outputs": [],
   "source": [
    "def check_exist_word(captions_pickle_path, category_words_dic_path):\n",
    "    with open(captions_pickle_path, 'rb') as f:\n",
    "        x = pickle.load(f)\n",
    "        ixtoword, wordtoix = x[2], x[3]\n",
    "        del x\n",
    "\n",
    "    with open(category_words_dic_path) as f:\n",
    "        category_words_dic = json.load(f)\n",
    "\n",
    "    for cat in category_words_dic.keys():\n",
    "        for word in category_words_dic[cat]:\n",
    "            if not word in wordtoix:\n",
    "                print(word)"
   ]
  },
  {
   "cell_type": "code",
   "execution_count": 62,
   "metadata": {},
   "outputs": [],
   "source": [
    "# 英語\n",
    "captions_pickle_path = '/home/nakachi/DM-GAN/data/coco/captions.pickle'\n",
    "category_words_dic_path = '/home/nakachi/data/category_split/category_words_en_dic.json'\n",
    "\n",
    "check_exist_word(captions_pickle_path, category_words_dic_path)"
   ]
  },
  {
   "cell_type": "code",
   "execution_count": 63,
   "metadata": {},
   "outputs": [],
   "source": [
    "# 日本語\n",
    "captions_pickle_path = '/home/nakachi/data/stair/captions.pickle'\n",
    "category_words_dic_path = '/home/nakachi/data/category_split/category_words_ja_dic.json'\n",
    "\n",
    "check_exist_word(captions_pickle_path, category_words_dic_path)"
   ]
  },
  {
   "cell_type": "code",
   "execution_count": null,
   "metadata": {},
   "outputs": [],
   "source": []
  }
 ],
 "metadata": {
  "kernelspec": {
   "display_name": "env",
   "language": "python",
   "name": "env"
  },
  "language_info": {
   "codemirror_mode": {
    "name": "ipython",
    "version": 3
   },
   "file_extension": ".py",
   "mimetype": "text/x-python",
   "name": "python",
   "nbconvert_exporter": "python",
   "pygments_lexer": "ipython3",
   "version": "3.6.12"
  }
 },
 "nbformat": 4,
 "nbformat_minor": 4
}
