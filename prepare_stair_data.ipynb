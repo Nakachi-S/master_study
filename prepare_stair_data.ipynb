{
 "cells": [
  {
   "cell_type": "markdown",
   "metadata": {},
   "source": [
    "# prepare_stair_data"
   ]
  },
  {
   "cell_type": "markdown",
   "metadata": {},
   "source": [
    "created 2021/01/18\n",
    "\n",
    "- stairのデータをattenGANなどが期待するデータセットを準備するノートブック\n",
    "\n",
    "birdsは以下のようなディレクトリ構成\n",
    "```\n",
    "birds\n",
    "├── text\n",
    "│   ├── text1.txt (各10captionずつ)\n",
    "│   ├── text2.txt\n",
    "│   └── text3.txt\n",
    "├── train\n",
    "│   └── filenames.pickle (textのpathが入った配列。textには各10captionある)\n",
    "└── val\n",
    "    └── filenames.pickle\n",
    "```    \n",
    "\n",
    "これを以下のように作る\n",
    "```\n",
    "birds\n",
    "├── train_filenames.pickle\n",
    "├── val_filenames.pickle\n",
    "├── text\n",
    "│   ├── text1.txt (各10captionずつ)\n",
    "│   ├── text2.txt\n",
    "│   └── text3.txt\n",
    "├── train\n",
    "│   └── 1.img \n",
    "└── val\n",
    "    └── 1.img\n",
    "```\n",
    "\n"
   ]
  },
  {
   "cell_type": "code",
   "execution_count": 1,
   "metadata": {},
   "outputs": [],
   "source": [
    "import os\n",
    "import json\n",
    "import pickle\n",
    "import pandas as pd\n",
    "\n",
    "DATA_DIR = '/data/Users/nakachi/stair/'\n",
    "OUTPUT_TEXT_DIR = '/data/Users/nakachi/stair/text/'"
   ]
  },
  {
   "cell_type": "markdown",
   "metadata": {},
   "source": [
    "### validation data"
   ]
  },
  {
   "cell_type": "code",
   "execution_count": 2,
   "metadata": {},
   "outputs": [],
   "source": [
    "# json読み込み\n",
    "with open(os.path.join(DATA_DIR, 'stair_captions_v1.2_val_tokenized.json'), encoding='utf-8') as f:\n",
    "    val_json_data = json.load(f)"
   ]
  },
  {
   "cell_type": "code",
   "execution_count": null,
   "metadata": {},
   "outputs": [],
   "source": [
    "val_json_data"
   ]
  },
  {
   "cell_type": "code",
   "execution_count": 20,
   "metadata": {},
   "outputs": [],
   "source": [
    "val_dic = {}\n",
    "for i in range(len(val_json_data[\"images\"])):\n",
    "    file_name = val_json_data[\"images\"][i][\"file_name\"]\n",
    "    id = val_json_data[\"images\"][i][\"id\"]\n",
    "    val_dic[id] = {'name': file_name.replace('.jpg', ''), 'captions': []}"
   ]
  },
  {
   "cell_type": "code",
   "execution_count": 24,
   "metadata": {},
   "outputs": [],
   "source": [
    "for annotation in val_json_data['annotations']:\n",
    "    image_id = annotation['image_id']\n",
    "    val_dic[image_id]['captions'].append(annotation['tokenized_caption'])"
   ]
  },
  {
   "cell_type": "code",
   "execution_count": 32,
   "metadata": {},
   "outputs": [],
   "source": [
    "# text書き込み\n",
    "for k in val_dic.keys():\n",
    "    if len(val_dic[k]['captions']) != 5:\n",
    "        print('error')\n",
    "        break\n",
    "    \n",
    "    w_captions = \"\\n\".join(val_dic[k]['captions'])\n",
    "    with open(os.path.join(OUTPUT_TEXT_DIR, val_dic[k]['name'] + '.txt'), 'w', encoding='utf-8') as f:\n",
    "        f.write(w_captions)"
   ]
  },
  {
   "cell_type": "code",
   "execution_count": 37,
   "metadata": {},
   "outputs": [],
   "source": [
    "# filenames.pickleの書き込み\n",
    "val_filename_list = []\n",
    "for k in val_dic.keys():\n",
    "    if len(val_dic[k]['captions']) != 5:\n",
    "        print('error')\n",
    "        break\n",
    "    val_filename_list.append(val_dic[k]['name'])\n",
    "\n",
    "with open(os.path.join(DATA_DIR, 'val_filenames.pickle'), 'wb') as f:\n",
    "    pickle.dump(val_filename_list,f)"
   ]
  },
  {
   "cell_type": "code",
   "execution_count": null,
   "metadata": {},
   "outputs": [],
   "source": []
  },
  {
   "cell_type": "markdown",
   "metadata": {},
   "source": [
    "### training data"
   ]
  },
  {
   "cell_type": "code",
   "execution_count": 8,
   "metadata": {},
   "outputs": [],
   "source": [
    "# json読み込み\n",
    "with open(os.path.join(DATA_DIR, 'stair_captions_v1.2_train_tokenized.json'), encoding='utf-8') as f:\n",
    "    train_json_data = json.load(f)"
   ]
  },
  {
   "cell_type": "code",
   "execution_count": 40,
   "metadata": {},
   "outputs": [],
   "source": [
    "train_dic = {}\n",
    "for i in range(len(train_json_data[\"images\"])):\n",
    "    file_name = train_json_data[\"images\"][i][\"file_name\"]\n",
    "    id = train_json_data[\"images\"][i][\"id\"]\n",
    "    train_dic[id] = {'name': file_name.replace('.jpg', ''), 'captions': []}"
   ]
  },
  {
   "cell_type": "code",
   "execution_count": 41,
   "metadata": {},
   "outputs": [],
   "source": [
    "for annotation in train_json_data['annotations']:\n",
    "    image_id = annotation['image_id']\n",
    "    train_dic[image_id]['captions'].append(annotation['tokenized_caption'])"
   ]
  },
  {
   "cell_type": "code",
   "execution_count": 42,
   "metadata": {},
   "outputs": [],
   "source": [
    "# text書き込み\n",
    "for k in train_dic.keys():\n",
    "    if len(train_dic[k]['captions']) != 5:\n",
    "        print('error')\n",
    "        break\n",
    "    \n",
    "    w_captions = \"\\n\".join(train_dic[k]['captions'])\n",
    "    with open(os.path.join(OUTPUT_TEXT_DIR, train_dic[k]['name'] + '.txt'), 'w', encoding='utf-8') as f:\n",
    "        f.write(w_captions)"
   ]
  },
  {
   "cell_type": "code",
   "execution_count": 43,
   "metadata": {},
   "outputs": [],
   "source": [
    "# filenames.pickleの書き込み\n",
    "train_filename_list = []\n",
    "for k in train_dic.keys():\n",
    "    if len(train_dic[k]['captions']) != 5:\n",
    "        print('error')\n",
    "        break\n",
    "    train_filename_list.append(train_dic[k]['name'])\n",
    "\n",
    "with open(os.path.join(DATA_DIR, 'train_filenames.pickle'), 'wb') as f:\n",
    "    pickle.dump(train_filename_list,f)"
   ]
  },
  {
   "cell_type": "markdown",
   "metadata": {},
   "source": [
    "---"
   ]
  },
  {
   "cell_type": "code",
   "execution_count": 11,
   "metadata": {},
   "outputs": [],
   "source": [
    "# json読み込み\n",
    "with open(os.path.join(DATA_DIR, 'stair_captions_v1.2_val_tokenized.json'), encoding='utf-8') as f:\n",
    "    val_json_data = json.load(f)"
   ]
  },
  {
   "cell_type": "code",
   "execution_count": null,
   "metadata": {},
   "outputs": [],
   "source": [
    "val_json_data['images']"
   ]
  },
  {
   "cell_type": "code",
   "execution_count": 5,
   "metadata": {},
   "outputs": [],
   "source": [
    "# json読み込み\n",
    "with open(os.path.join(DATA_DIR, 'stair_captions_v1.2_train_tokenized.json'), encoding='utf-8') as f:\n",
    "    train_json_data = json.load(f)"
   ]
  },
  {
   "cell_type": "code",
   "execution_count": 6,
   "metadata": {},
   "outputs": [
    {
     "data": {
      "text/plain": [
       "82783"
      ]
     },
     "execution_count": 6,
     "metadata": {},
     "output_type": "execute_result"
    }
   ],
   "source": [
    "len(train_json_data['images'])"
   ]
  },
  {
   "cell_type": "code",
   "execution_count": null,
   "metadata": {},
   "outputs": [],
   "source": []
  }
 ],
 "metadata": {
  "kernelspec": {
   "display_name": "env",
   "language": "python",
   "name": "env"
  },
  "language_info": {
   "codemirror_mode": {
    "name": "ipython",
    "version": 3
   },
   "file_extension": ".py",
   "mimetype": "text/x-python",
   "name": "python",
   "nbconvert_exporter": "python",
   "pygments_lexer": "ipython3",
   "version": "3.6.12"
  }
 },
 "nbformat": 4,
 "nbformat_minor": 4
}
