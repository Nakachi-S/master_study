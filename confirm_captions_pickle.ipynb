{
 "cells": [
  {
   "cell_type": "markdown",
   "metadata": {},
   "source": [
    "# confirm captions pickle\n",
    "\n",
    "AttnGANの前処理で作られた、 `captions.pickle` を確認するノートブック"
   ]
  },
  {
   "cell_type": "code",
   "execution_count": 9,
   "metadata": {},
   "outputs": [],
   "source": [
    "import pickle"
   ]
  },
  {
   "cell_type": "code",
   "execution_count": 10,
   "metadata": {},
   "outputs": [],
   "source": [
    "caption_pickle_path = '/home/nakachi/data/stair/captions.pickle'\n",
    "with open(caption_pickle_path, 'rb') as f:\n",
    "    x = pickle.load(f)\n",
    "    train_captions, test_captions = x[0], x[1]\n",
    "    ixtoword, wordtoix = x[2], x[3]\n",
    "    del x\n",
    "    n_words = len(ixtoword)"
   ]
  },
  {
   "cell_type": "code",
   "execution_count": 34,
   "metadata": {},
   "outputs": [
    {
     "data": {
      "text/plain": [
       "31605"
      ]
     },
     "execution_count": 34,
     "metadata": {},
     "output_type": "execute_result"
    }
   ],
   "source": [
    "len(ixtoword)"
   ]
  },
  {
   "cell_type": "markdown",
   "metadata": {},
   "source": [
    "---"
   ]
  },
  {
   "cell_type": "markdown",
   "metadata": {},
   "source": [
    "`train_filenames.pickle` も調べる"
   ]
  },
  {
   "cell_type": "code",
   "execution_count": 11,
   "metadata": {},
   "outputs": [],
   "source": [
    "train_filenames_path = '/home/nakachi/data/stair/train_filenames.pickle'\n",
    "with open(train_filenames_path, 'rb') as f:\n",
    "    train_file_name = pickle.load(f)"
   ]
  },
  {
   "cell_type": "code",
   "execution_count": 12,
   "metadata": {},
   "outputs": [
    {
     "data": {
      "text/plain": [
       "'COCO_train2014_000000112126'"
      ]
     },
     "execution_count": 12,
     "metadata": {},
     "output_type": "execute_result"
    }
   ],
   "source": [
    "train_file_name[69393]"
   ]
  },
  {
   "cell_type": "markdown",
   "metadata": {},
   "source": [
    "---"
   ]
  },
  {
   "cell_type": "markdown",
   "metadata": {},
   "source": [
    "わからんので、 `find_mistake_split` より怪しげなやつを選んで調査する"
   ]
  },
  {
   "cell_type": "code",
   "execution_count": 55,
   "metadata": {},
   "outputs": [
    {
     "name": "stdout",
     "output_type": "stream",
     "text": [
      "69393\n"
     ]
    }
   ],
   "source": [
    "for i, file_name in enumerate(train_file_name):\n",
    "    if file_name == 'COCO_train2014_000000112126':\n",
    "        print(i)\n",
    "        break"
   ]
  },
  {
   "cell_type": "code",
   "execution_count": 48,
   "metadata": {},
   "outputs": [
    {
     "name": "stdout",
     "output_type": "stream",
     "text": [
      "全てのcaptionの数: 413915\n",
      "trainのテキストファイルの数: 82783\n",
      "１テキストファイルにつき５文あるから上記のような数になる\n"
     ]
    }
   ],
   "source": [
    "print('全てのtrainのcaptionの数:',len(train_captions))\n",
    "print('trainのテキストファイルの数:', len(train_file_name))\n",
    "print('１テキストファイルにつき５文あるから上記のような数になる')"
   ]
  },
  {
   "cell_type": "code",
   "execution_count": 57,
   "metadata": {},
   "outputs": [
    {
     "name": "stdout",
     "output_type": "stream",
     "text": [
      "パイ が 適当 な 大き さ で 切っ て あっ て 、 トレイ に のっ て いる \n",
      "黒い ボード の 上 に 、 パイ の よう な 料理 が 乗っ て いる \n",
      "机 の 上 に 変わっ た 形 の 黒い お 皿 が 置い て あり その 上 に 四角い ピザ が 乗っ て いる \n",
      "ピザ で 注文 し た 食べ かけ の 途中 の ピザ \n",
      "机 の 上 の 黒い お 皿 に ピザ が 乗っ て いる \n"
     ]
    }
   ],
   "source": [
    "# じゃ実際に調査\n",
    "for sentence_index in train_captions[69393*5:(69393*5)+5]:\n",
    "    sentence = ''\n",
    "    for word_index in sentence_index:\n",
    "        sentence += ixtoword[word_index] + ' '\n",
    "    print(sentence)"
   ]
  },
  {
   "cell_type": "markdown",
   "metadata": {},
   "source": [
    "---"
   ]
  },
  {
   "cell_type": "code",
   "execution_count": 14,
   "metadata": {},
   "outputs": [],
   "source": [
    "val_filenames_path = '/home/nakachi/data/stair/val_filenames.pickle'\n",
    "with open(val_filenames_path, 'rb') as f:\n",
    "    val_file_name = pickle.load(f)"
   ]
  },
  {
   "cell_type": "code",
   "execution_count": 15,
   "metadata": {},
   "outputs": [
    {
     "name": "stdout",
     "output_type": "stream",
     "text": [
      "全てのvalのcaptionの数: 202520\n",
      "valのテキストファイルの数: 40504\n"
     ]
    }
   ],
   "source": [
    "print('全てのvalのcaptionの数:',len(test_captions))\n",
    "print('valのテキストファイルの数:', len(val_file_name))"
   ]
  },
  {
   "cell_type": "code",
   "execution_count": 19,
   "metadata": {},
   "outputs": [
    {
     "name": "stdout",
     "output_type": "stream",
     "text": [
      "trainの比率: 0.6714657668691751\n",
      "valの比率: 0.3285342331308248\n"
     ]
    }
   ],
   "source": [
    "print('trainの比率:', len(train_file_name) / (len(train_file_name) + len(val_file_name)))\n",
    "print('valの比率:', len(val_file_name) / (len(train_file_name) + len(val_file_name)))"
   ]
  },
  {
   "cell_type": "markdown",
   "metadata": {},
   "source": [
    "---\n",
    "### 2021/10/16\n",
    "結局、[DM-GAN](https://github.com/MinfengZhu/DM-GAN) で提供されている、cocoデータセット（captions.pickleが含まれているやつ）を用いた時の\n",
    "評価が論文とより近しかった。\n",
    "\n",
    "つまりこれは、前処理が上手く行えていない可能性がある。\n",
    "よって以下の3つのcaptions.pickleを比較する。\n",
    "- STAIRのcaptions.pickle(自作)\n",
    "- COCOのcaptions.pickle(自作)\n",
    "- COCOのcaptions.pickle(提供されたデータ)"
   ]
  },
  {
   "cell_type": "code",
   "execution_count": 1,
   "metadata": {},
   "outputs": [],
   "source": [
    "import os\n",
    "import pickle\n",
    "\n",
    "STAIR_DIRECTORY = '/home/nakachi/data/stair/'\n",
    "COCO_OWN_DIRECTORY = '/home/nakachi/data/coco/'\n",
    "COCO_ORIGINAL_DIRECTORY = '/home/nakachi/DM-GAN/data/coco/'"
   ]
  },
  {
   "cell_type": "code",
   "execution_count": 7,
   "metadata": {},
   "outputs": [],
   "source": [
    "# 各captions.pickleを調べる\n",
    "STAIR_CAPTIONS_PICKLE_PATH = os.path.join(STAIR_DIRECTORY, 'captions.pickle')\n",
    "COCO_OWN_CPATIONS_PICKLE_PATH = os.path.join(COCO_OWN_DIRECTORY, 'captions.pickle')\n",
    "COCO_ORIGINAL_CPATIONS_PICKLE_PATH = os.path.join(COCO_ORIGINAL_DIRECTORY, 'captions.pickle')\n",
    "\n",
    "with open(STAIR_CAPTIONS_PICKLE_PATH, 'rb') as f_stair, \\\n",
    "     open(COCO_OWN_CPATIONS_PICKLE_PATH, 'rb') as f_coco_own, \\\n",
    "     open(COCO_ORIGINAL_CPATIONS_PICKLE_PATH, 'rb') as f_coco_original:\n",
    "    # stair\n",
    "    x = pickle.load(f_stair)\n",
    "    stair_train_captions, stair_test_captions = x[0], x[1]\n",
    "    stair_ixtoword, stair_wordtoix = x[2], x[3]\n",
    "    del x\n",
    "    \n",
    "    # coco_own\n",
    "    x = pickle.load(f_coco_own)\n",
    "    coco_own_train_captions, coco_own_test_captions = x[0], x[1]\n",
    "    coco_own_ixtoword, coco_own_wordtoix = x[2], x[3]\n",
    "    del x\n",
    "\n",
    "    # coco_original\n",
    "    x = pickle.load(f_coco_original)\n",
    "    coco_original_train_captions, coco_original_test_captions = x[0], x[1]\n",
    "    coco_original_ixtoword, coco_original_wordtoix = x[2], x[3]\n",
    "    del x"
   ]
  },
  {
   "cell_type": "code",
   "execution_count": 9,
   "metadata": {},
   "outputs": [
    {
     "name": "stdout",
     "output_type": "stream",
     "text": [
      "各train_captionsの数\n",
      "stair= 413915, coco_own= 413915, coco_original= 413915\n",
      "各test_captionsの数\n",
      "stair= 202520, coco_own= 202350, coco_original= 202350\n",
      "各captions pickleの単語数\n",
      "stair= 31605, coco_own= 27297, coco_original= 27297\n"
     ]
    }
   ],
   "source": [
    "print('各train_captionsの数')\n",
    "print(f'stair= {len(stair_train_captions)}, coco_own= {len(coco_own_train_captions)}, coco_original= {len(coco_orignal_train_captions)}')\n",
    "\n",
    "print('各test_captionsの数')\n",
    "print(f'stair= {len(stair_test_captions)}, coco_own= {len(coco_own_test_captions)}, coco_original= {len(coco_original_test_captions)}')\n",
    "\n",
    "print('各captions pickleの単語数')\n",
    "print(f'stair= {len(stair_ixtoword)}, coco_own= {len(coco_own_ixtoword)}, coco_original= {len(coco_original_ixtoword)}')"
   ]
  },
  {
   "cell_type": "code",
   "execution_count": 21,
   "metadata": {},
   "outputs": [
    {
     "data": {
      "text/plain": [
       "[[21796, 25764, 18044, 11776, 15157, 19443, 10409, 8707, 5819],\n",
       " [23046, 11776, 1943, 23046, 22600, 19301, 23046, 13748],\n",
       " [12775, 10739, 13417, 10659, 11776, 4114, 10409, 23046, 18044],\n",
       " [23046, 6983, 12713, 373, 4114, 1327, 14435, 4049, 13574],\n",
       " [23046, 11776, 15157, 1943, 23046, 6087, 17058, 20300]]"
      ]
     },
     "execution_count": 21,
     "metadata": {},
     "output_type": "execute_result"
    }
   ],
   "source": [
    "coco_orignal_train_captions[0:5]"
   ]
  },
  {
   "cell_type": "code",
   "execution_count": 23,
   "metadata": {},
   "outputs": [
    {
     "data": {
      "text/plain": [
       "[[1, 2, 3, 4, 5, 6, 7, 8, 9],\n",
       " [10, 4, 11, 10, 12, 13, 10, 14],\n",
       " [15, 16, 17, 18, 4, 19, 7, 10, 3],\n",
       " [10, 20, 21, 22, 19, 23, 24, 25, 26],\n",
       " [10, 4, 5, 11, 10, 27, 28, 29]]"
      ]
     },
     "execution_count": 23,
     "metadata": {},
     "output_type": "execute_result"
    }
   ],
   "source": [
    "coco_own_train_captions[0:5]"
   ]
  },
  {
   "cell_type": "code",
   "execution_count": 24,
   "metadata": {},
   "outputs": [
    {
     "data": {
      "text/plain": [
       "[[1, 2, 3, 4, 5, 6, 7, 8, 9, 10, 11],\n",
       " [12, 13, 14, 15, 6, 16, 5, 9, 10, 11],\n",
       " [17,\n",
       "  5,\n",
       "  18,\n",
       "  4,\n",
       "  5,\n",
       "  19,\n",
       "  20,\n",
       "  21,\n",
       "  10,\n",
       "  22,\n",
       "  12,\n",
       "  13,\n",
       "  23,\n",
       "  15,\n",
       "  24,\n",
       "  25,\n",
       "  13,\n",
       "  26,\n",
       "  15,\n",
       "  27,\n",
       "  21,\n",
       "  28,\n",
       "  29,\n",
       "  5,\n",
       "  30,\n",
       "  31,\n",
       "  10,\n",
       "  22],\n",
       " [1, 12, 15, 32, 33, 13, 34, 5, 35, 31, 10, 22],\n",
       " [36, 37, 38, 13, 12, 13, 14, 15, 39, 40, 41, 42, 43, 44, 5, 35, 31, 10, 22]]"
      ]
     },
     "execution_count": 24,
     "metadata": {},
     "output_type": "execute_result"
    }
   ],
   "source": [
    "stair_train_captions[0:5]"
   ]
  },
  {
   "cell_type": "code",
   "execution_count": 30,
   "metadata": {},
   "outputs": [
    {
     "data": {
      "text/plain": [
       "1"
      ]
     },
     "execution_count": 30,
     "metadata": {},
     "output_type": "execute_result"
    }
   ],
   "source": [
    "min(list(map(lambda x: min(x), coco_orignal_train_captions)))"
   ]
  },
  {
   "cell_type": "code",
   "execution_count": null,
   "metadata": {},
   "outputs": [],
   "source": []
  }
 ],
 "metadata": {
  "kernelspec": {
   "display_name": "env",
   "language": "python",
   "name": "env"
  },
  "language_info": {
   "codemirror_mode": {
    "name": "ipython",
    "version": 3
   },
   "file_extension": ".py",
   "mimetype": "text/x-python",
   "name": "python",
   "nbconvert_exporter": "python",
   "pygments_lexer": "ipython3",
   "version": "3.6.12"
  }
 },
 "nbformat": 4,
 "nbformat_minor": 4
}
